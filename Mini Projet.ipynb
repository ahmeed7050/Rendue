{
 "cells": [
  {
   "cell_type": "code",
   "execution_count": 2,
   "metadata": {},
   "outputs": [],
   "source": [
    "import numpy as np"
   ]
  },
  {
   "cell_type": "code",
   "execution_count": 16,
   "metadata": {},
   "outputs": [],
   "source": [
    "def fnc():\n",
    "    return int(np.random.choice(range(1,4),1))"
   ]
  },
  {
   "cell_type": "code",
   "execution_count": 18,
   "metadata": {},
   "outputs": [],
   "source": [
    "comp_wins = 0\n",
    "player_wins = 0\n",
    "\n",
    "def Choose_Option():\n",
    "    user_choice = input(\"Choose Rock, Paper or Scissors:(r/p/s) \")\n",
    "    if user_choice ==\"r\":\n",
    "        user_choice = \"r\"\n",
    "    elif user_choice == \"p\":\n",
    "        user_choice = \"p\"\n",
    "    elif user_choice ==\"s\":\n",
    "        user_choice = \"s\"\n",
    "    else:\n",
    "        print(\"I don't understand, try again.\")\n",
    "        Choose_Option()\n",
    "    return user_choice\n"
   ]
  },
  {
   "cell_type": "code",
   "execution_count": 19,
   "metadata": {},
   "outputs": [],
   "source": [
    "def Computer_Option():\n",
    "    comp_choice = fnc()\n",
    "    if comp_choice == 1:\n",
    "        comp_choice = \"r\"\n",
    "    elif comp_choice == 2:\n",
    "        comp_choice = \"p\"\n",
    "    else:\n",
    "        comp_choice = \"s\"\n",
    "    return comp_choice"
   ]
  },
  {
   "cell_type": "code",
   "execution_count": 23,
   "metadata": {},
   "outputs": [
    {
     "name": "stdout",
     "output_type": "stream",
     "text": [
      "Choose Rock, Paper or Scissors:(r/p/s) r\n",
      "You chose rock. The computer chose scissors. You win.\n",
      "\n",
      "Player wins: 3\n",
      "Computer wins: 2\n",
      "\n",
      "Do you want to play again? (y/n)y\n",
      "Choose Rock, Paper or Scissors:(r/p/s) r\n",
      "You chose rock. The computer chose scissors. You win.\n",
      "\n",
      "Player wins: 4\n",
      "Computer wins: 2\n",
      "\n",
      "Do you want to play again? (y/n)y\n",
      "Choose Rock, Paper or Scissors:(r/p/s) r\n",
      "You chose rock. The computer chose paper. You lose.\n",
      "\n",
      "Player wins: 4\n",
      "Computer wins: 3\n",
      "\n",
      "Do you want to play again? (y/n)n\n"
     ]
    }
   ],
   "source": [
    "while True:\n",
    "    user_choice = Choose_Option()\n",
    "    comp_choice = Computer_Option()\n",
    " \n",
    "    \n",
    "    if user_choice == \"r\":\n",
    "        if comp_choice == \"r\":\n",
    "            print(\"You chose rock. The computer chose rock. You tied.\")\n",
    "        \n",
    "        elif comp_choice == \"p\":\n",
    "            print(\"You chose rock. The computer chose paper. You lose.\")\n",
    "            comp_wins += 1\n",
    "            \n",
    "        elif comp_choice == \"s\":\n",
    "            print(\"You chose rock. The computer chose scissors. You win.\")\n",
    "            player_wins += 1\n",
    "\n",
    "    elif user_choice == \"p\":\n",
    "        if comp_choice == \"r\":\n",
    "            print(\"You chose paper. The computer chose rock. You win.\")\n",
    "            player_wins += 1\n",
    "        \n",
    "        elif comp_choice == \"p\":\n",
    "            print(\"You chose paper. The computer chose paper. You tied.\")\n",
    "            \n",
    "            \n",
    "        elif comp_choice == \"s\":\n",
    "            print(\"You chose paper. The computer chose scissors. You lose.\")\n",
    "            comp_wins += 1\n",
    "\n",
    "    elif user_choice == \"s\":\n",
    "        if comp_choice == \"r\":\n",
    "            print(\"You chose scissors. The computer chose rock. You lose.\")\n",
    "            comp_wins += 1\n",
    "        \n",
    "        elif comp_choice == \"p\":\n",
    "            print(\"You chose scissors. The computer chose paper. You win.\")\n",
    "            player_wins += 1\n",
    "            \n",
    "        elif comp_choice == \"s\":\n",
    "            print(\"You chose scissors. The computer chose scissors. You tied.\")\n",
    "\n",
    "    print(\"\")\n",
    "    print(\"Player wins: \" + str(player_wins))\n",
    "    print(\"Computer wins: \" + str(comp_wins))\n",
    "    print(\"\")\n",
    "    \n",
    "    user_choice = input(\"Do you want to play again? (y/n)\")\n",
    "    if user_choice==\"y\":\n",
    "        pass\n",
    "    else:\n",
    "        break"
   ]
  },
  {
   "cell_type": "code",
   "execution_count": null,
   "metadata": {},
   "outputs": [],
   "source": []
  }
 ],
 "metadata": {
  "kernelspec": {
   "display_name": "Python 3",
   "language": "python",
   "name": "python3"
  },
  "language_info": {
   "codemirror_mode": {
    "name": "ipython",
    "version": 3
   },
   "file_extension": ".py",
   "mimetype": "text/x-python",
   "name": "python",
   "nbconvert_exporter": "python",
   "pygments_lexer": "ipython3",
   "version": "3.7.6"
  }
 },
 "nbformat": 4,
 "nbformat_minor": 4
}
